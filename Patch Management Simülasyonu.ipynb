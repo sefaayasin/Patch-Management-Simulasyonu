{
 "cells": [
  {
   "cell_type": "markdown",
   "id": "9559d1f1-ff58-46de-b999-ffcfb15141bf",
   "metadata": {},
   "source": [
    "#  1. ADIM – Gerekli Kütüphaneleri İçe Aktar"
   ]
  },
  {
   "cell_type": "code",
   "execution_count": 97,
   "id": "a1380eb1-7176-48cb-bb1d-220fc1fa0022",
   "metadata": {},
   "outputs": [],
   "source": [
    "import subprocess\n",
    "import tkinter as tk\n",
    "from tkinter import scrolledtext\n",
    "from datetime import datetime\n",
    "import csv\n"
   ]
  },
  {
   "cell_type": "markdown",
   "id": "bb758ac3-cac9-4435-a8b5-39f840a80668",
   "metadata": {},
   "source": [
    "# 2. ADIM – PowerShell ile Güncellemeleri Al"
   ]
  },
  {
   "cell_type": "code",
   "execution_count": 100,
   "id": "3c889c02-f9d7-49e1-85a9-bec6739f9961",
   "metadata": {},
   "outputs": [],
   "source": [
    "def guncellemeleri_al():\n",
    "    try:\n",
    "        output = subprocess.check_output(\n",
    "            [\"powershell\", \"-Command\", \"Get-HotFix | Sort-Object InstalledOn -Descending\"],\n",
    "            stderr=subprocess.STDOUT\n",
    "        ).decode(\"utf-8\", errors=\"ignore\")\n",
    "\n",
    "        # Satırları işle\n",
    "        lines = [line.strip() for line in output.splitlines() if line.strip()]\n",
    "        updates = []\n",
    "        current = {}\n",
    "        for line in lines:\n",
    "            if \"Source\" in line and current:\n",
    "                updates.append(current)\n",
    "                current = {}\n",
    "            parts = line.split(\":\", 1)\n",
    "            if len(parts) == 2:\n",
    "                key, value = parts\n",
    "                current[key.strip()] = value.strip()\n",
    "        if current:\n",
    "            updates.append(current)\n",
    "\n",
    "        return updates\n",
    "    except subprocess.CalledProcessError:\n",
    "        return []\n"
   ]
  },
  {
   "cell_type": "markdown",
   "id": "ee631f3e-6971-4a64-bfd0-604b3cb74f49",
   "metadata": {},
   "source": [
    "# 3. ADIM – Son 5 Güncellemeyi Al"
   ]
  },
  {
   "cell_type": "code",
   "execution_count": 103,
   "id": "a7b92972-07ae-452b-bc2e-91dc30c81619",
   "metadata": {},
   "outputs": [],
   "source": [
    "def son_5_guncellemeyi_getir(updates):\n",
    "    return updates[:5]\n"
   ]
  },
  {
   "cell_type": "markdown",
   "id": "894077c5-614a-4e3f-acd5-bd752561e900",
   "metadata": {},
   "source": [
    "# 4. ADIM – Sistem Güncel mi Kontrol Et"
   ]
  },
  {
   "cell_type": "code",
   "execution_count": 106,
   "id": "9da57dfd-1868-48c5-9301-2e3943f939e4",
   "metadata": {},
   "outputs": [],
   "source": [
    "def guncel_mi(updates):\n",
    "    try:\n",
    "        last_date = updates[0].get(\"InstalledOn\", \"\").split(\" \")[0]  # 🔧 saat kısmını at\n",
    "        date_obj = datetime.strptime(last_date, \"%d.%m.%Y\")\n",
    "        fark = (datetime.now() - date_obj).days\n",
    "        return fark <= 15, date_obj.strftime(\"%Y-%m-%d\"), fark\n",
    "    except:\n",
    "        return False, \"Tarih alınamadı\", \"?\"\n"
   ]
  },
  {
   "cell_type": "markdown",
   "id": "4e23d188-1b2b-4618-9177-bb57dcc8defe",
   "metadata": {},
   "source": [
    "# 5. ADIM – CSV Loglama Fonksiyonu"
   ]
  },
  {
   "cell_type": "code",
   "execution_count": 109,
   "id": "42a27acf-3bfc-4f1b-9861-f55168a0a819",
   "metadata": {},
   "outputs": [],
   "source": [
    "def log_yaz(updates):\n",
    "    with open(\"patch_log.csv\", \"a\", newline=\"\", encoding=\"utf-8\") as csvfile:\n",
    "        fieldnames = [\"LogTime\", \"HotFixID\", \"InstalledOn\", \"Description\"]\n",
    "        writer = csv.DictWriter(csvfile, fieldnames=fieldnames)\n",
    "        for upd in updates:\n",
    "            writer.writerow({\n",
    "                \"LogTime\": datetime.now().strftime(\"%Y-%m-%d %H:%M:%S\"),\n",
    "                \"HotFixID\": upd.get(\"HotFixID\", \"\"),\n",
    "                \"InstalledOn\": upd.get(\"InstalledOn\", \"\"),\n",
    "                \"Description\": upd.get(\"Description\", \"\")\n",
    "            })\n"
   ]
  },
  {
   "cell_type": "markdown",
   "id": "7cb2fe7c-2787-4dcd-b23d-f3b7dbf1b5e0",
   "metadata": {},
   "source": [
    "# 6. ADIM – Security Güncellemeleri için Filtreleme"
   ]
  },
  {
   "cell_type": "code",
   "execution_count": 112,
   "id": "22618977-53ce-4db8-a40f-57547167accd",
   "metadata": {},
   "outputs": [],
   "source": [
    "def filtrele_security(updates):\n",
    "    return [u for u in updates if \"security\" in u.get(\"Description\", \"\").lower()]\n"
   ]
  },
  {
   "cell_type": "markdown",
   "id": "f935bc85-f043-4107-b0ab-d25ce811c269",
   "metadata": {},
   "source": [
    "# 7. ADIM – GUI Arayüz (Tkinter)"
   ]
  },
  {
   "cell_type": "code",
   "execution_count": 115,
   "id": "41eb288b-3545-4c92-ae62-37cbc2265349",
   "metadata": {},
   "outputs": [],
   "source": [
    "pencere = tk.Tk()\n",
    "pencere.title(\"📦 Windows Patch Kontrol Aracı\")\n",
    "pencere.geometry(\"750x500\")\n",
    "\n",
    "etiket = tk.Label(pencere, text=\"Yüklü Güncellemeler (Son 5)\", font=(\"Arial\", 14))\n",
    "etiket.pack(pady=10)\n",
    "\n",
    "renk_kutu = tk.Label(pencere, width=30, height=2, bg=\"gray\", relief=\"ridge\", bd=4)\n",
    "renk_kutu.pack(pady=5)\n",
    "\n",
    "kutucuk = scrolledtext.ScrolledText(pencere, width=90, height=15, font=(\"Consolas\", 9))\n",
    "kutucuk.pack(padx=10, pady=5)\n",
    "\n",
    "durum_etiketi = tk.Label(pencere, text=\"\", font=(\"Arial\", 12, \"bold\"))\n",
    "durum_etiketi.pack(pady=5)\n",
    "\n",
    "security_var = tk.IntVar()\n",
    "checkbtn = tk.Checkbutton(pencere, text=\"Sadece Güvenlik Güncellemelerini Göster\", variable=security_var)\n",
    "checkbtn.pack()\n"
   ]
  },
  {
   "cell_type": "markdown",
   "id": "27a5b22d-3fae-4c1a-9438-6de928cc13e4",
   "metadata": {},
   "source": [
    "# 8. ADIM – Buton Fonksiyonu (Göster)"
   ]
  },
  {
   "cell_type": "code",
   "execution_count": 118,
   "id": "8c1bb5d2-98a3-4f25-b985-62e91863e914",
   "metadata": {},
   "outputs": [],
   "source": [
    "def goster():\n",
    "    updates = guncellemeleri_al()\n",
    "    if not updates:\n",
    "        kutucuk.insert(tk.END, \"Güncelleme bilgileri alınamadı.\")\n",
    "        return\n",
    "\n",
    "    log_yaz(updates)\n",
    "    son5 = son_5_guncellemeyi_getir(updates)\n",
    "    if security_var.get():\n",
    "        son5 = filtrele_security(son5)\n",
    "\n",
    "    kutucuk.delete(\"1.0\", tk.END)\n",
    "    for u in son5:\n",
    "        for k, v in u.items():\n",
    "            kutucuk.insert(tk.END, f\"{k}: {v}\\n\")\n",
    "        kutucuk.insert(tk.END, \"-\"*60 + \"\\n\")\n",
    "\n",
    "    guncel, tarih, fark = guncel_mi(updates)\n",
    "    if guncel:\n",
    "        durum_etiketi.config(text=f\"✅ Sistem güncel. Son güncelleme: {tarih}\", fg=\"green\")\n",
    "        renk_kutu.config(bg=\"green\")\n",
    "    else:\n",
    "        durum_etiketi.config(text=f\"⚠️ Sistem güncel değil! Son güncelleme: {tarih} ({fark} gün önce)\", fg=\"red\")\n",
    "        renk_kutu.config(bg=\"red\")\n"
   ]
  },
  {
   "cell_type": "markdown",
   "id": "757c312d-0673-46eb-9743-f535003b7073",
   "metadata": {},
   "source": [
    "# 9. ADIM – Göster Butonu ve GUI Döngüsü"
   ]
  },
  {
   "cell_type": "code",
   "execution_count": null,
   "id": "5a11dd78-8a2b-4a34-a4f2-b438774fb520",
   "metadata": {},
   "outputs": [],
   "source": [
    "buton = tk.Button(pencere, text=\"Güncellemeleri Göster\", command=goster, bg=\"lightblue\")\n",
    "buton.pack(pady=10)\n",
    "\n",
    "pencere.mainloop()\n"
   ]
  },
  {
   "cell_type": "code",
   "execution_count": null,
   "id": "2fd55d0b-e33f-4562-90a2-a3b6a3ab55b4",
   "metadata": {},
   "outputs": [],
   "source": []
  }
 ],
 "metadata": {
  "kernelspec": {
   "display_name": "Python [conda env:base] *",
   "language": "python",
   "name": "conda-base-py"
  },
  "language_info": {
   "codemirror_mode": {
    "name": "ipython",
    "version": 3
   },
   "file_extension": ".py",
   "mimetype": "text/x-python",
   "name": "python",
   "nbconvert_exporter": "python",
   "pygments_lexer": "ipython3",
   "version": "3.12.7"
  }
 },
 "nbformat": 4,
 "nbformat_minor": 5
}
